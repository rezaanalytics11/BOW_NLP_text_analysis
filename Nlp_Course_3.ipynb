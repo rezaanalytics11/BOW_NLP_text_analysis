{
  "nbformat": 4,
  "nbformat_minor": 0,
  "metadata": {
    "colab": {
      "provenance": []
    },
    "kernelspec": {
      "name": "python3",
      "display_name": "Python 3"
    },
    "language_info": {
      "name": "python"
    }
  },
  "cells": [
    {
      "cell_type": "code",
      "execution_count": 80,
      "metadata": {
        "id": "J0O_uEvtUdkV"
      },
      "outputs": [],
      "source": [
        "import nltk\n",
        "from nltk.corpus import stopwords\n",
        "import string\n",
        "import re\n",
        "import numpy as np\n",
        "import pandas as pd\n",
        "from sklearn.feature_extraction.text import CountVectorizer\n"
      ]
    },
    {
      "cell_type": "code",
      "source": [
        "\n",
        "string.punctuation\n"
      ],
      "metadata": {
        "colab": {
          "base_uri": "https://localhost:8080/",
          "height": 36
        },
        "id": "1Gw7p9FyXvCm",
        "outputId": "1fe3d002-9a14-4f0f-d192-e51a104912c1"
      },
      "execution_count": 81,
      "outputs": [
        {
          "output_type": "execute_result",
          "data": {
            "text/plain": [
              "'!\"#$%&\\'()*+,-./:;<=>?@[\\\\]^_`{|}~'"
            ],
            "application/vnd.google.colaboratory.intrinsic+json": {
              "type": "string"
            }
          },
          "metadata": {},
          "execution_count": 81
        }
      ]
    },
    {
      "cell_type": "code",
      "source": [
        "#nltk.download('all')\n"
      ],
      "metadata": {
        "id": "T2A9WHNn8xcY"
      },
      "execution_count": 82,
      "outputs": []
    },
    {
      "cell_type": "code",
      "source": [
        "stop=stopwords.words('english')"
      ],
      "metadata": {
        "id": "7oaOfdWO9vZS"
      },
      "execution_count": 83,
      "outputs": []
    },
    {
      "cell_type": "code",
      "source": [
        "text_1='''Pakistan’s air force launched retaliatory airstrikes early Thursday in Iran against alleged militant hideouts, killing at least nine people and further raising tensions between the neighbors.\n",
        "\n",
        "Thursday’s attack followed one by Iran inside Pakistan on Tuesday. Both appeared to target Baluch militant groups with similar separatist goals on either side of the Iran-Pakistan border. The countries accuse each other of providing safe haven to the groups in their respective territories.\n",
        "\n",
        "The attacks also come as the Middle East remains unsettled by Israel’s war with Hamas in the Gaza Strip. Iran also staged airstrikes late Monday in Iraq and Syria over an Islamic State-claimed suicide bombing that killed over 90 people in early January.The strikes imperiled diplomatic relations between Islamabad and Tehran, as Iran and nuclear-armed Pakistan have long regarded each other with suspicion over militant attacks. Each nation also faces its own internal political pressures, and the strikes may in part be in response to that.\n",
        "\n",
        "Pakistan’s Foreign Ministry described its attack Thursday as “a series of highly coordinated and specifically targeted precision military strikes.”\n",
        "\n",
        "“This morning’s action was taken in light of credible intelligence of impending large scale terrorist activities,” it said in a statement. “This action is a manifestation of Pakistan’s unflinching resolve to protect and defend its national security against all threats.”\n",
        "\n",
        "Pakistan’s military described using “killer drones, rockets, loitering munitions and standoff weapons” in the attack. Standoff weapons are missiles fired from aircraft at a distance — likely meaning Pakistan’s fighter jets didn’t enter Iranian airspace.'''\n",
        "\n",
        "\n",
        "\n",
        "list_text1=text_1.split()\n",
        "\n",
        "list_text1=[word for word in list_text1 if word not in string.punctuation]\n",
        "\n",
        "list_text1_=[word for word in list_text1 if word not in stop]\n",
        "\n",
        "text_1=' '.join(list_text1_)\n",
        "\n",
        "text_1=re.sub('[\\n]',' ', text_1)\n",
        "text_1=re.sub('[\\u200c]','', text_1)\n",
        "text_1=re.sub('\\d+','', text_1)\n",
        "\n",
        "text_1\n",
        "\n",
        "\n",
        "\n",
        "\n"
      ],
      "metadata": {
        "colab": {
          "base_uri": "https://localhost:8080/",
          "height": 175
        },
        "id": "Ftx3Z8bCX5-5",
        "outputId": "88546f49-7b5b-41a8-c355-4e174e455834"
      },
      "execution_count": 84,
      "outputs": [
        {
          "output_type": "execute_result",
          "data": {
            "text/plain": [
              "'Pakistan’s air force launched retaliatory airstrikes early Thursday Iran alleged militant hideouts, killing least nine people raising tensions neighbors. Thursday’s attack followed one Iran inside Pakistan Tuesday. Both appeared target Baluch militant groups similar separatist goals either side Iran-Pakistan border. The countries accuse providing safe groups respective territories. The attacks also come Middle East remains unsettled Israel’s war Hamas Gaza Strip. Iran also staged airstrikes late Monday Iraq Syria Islamic State-claimed suicide bombing killed  people early January.The strikes imperiled diplomatic relations Islamabad Tehran, Iran nuclear-armed Pakistan long regarded suspicion militant attacks. Each nation also faces internal political pressures, strikes may part response that. Pakistan’s Foreign Ministry described attack Thursday “a series highly coordinated specifically targeted precision military strikes.” “This morning’s action taken light credible intelligence impending large scale terrorist activities,” said statement. “This action manifestation Pakistan’s unflinching resolve protect defend national security threats.” Pakistan’s military described using “killer drones, rockets, loitering munitions standoff weapons” attack. Standoff weapons missiles fired aircraft distance — likely meaning Pakistan’s fighter jets didn’t enter Iranian airspace.'"
            ],
            "application/vnd.google.colaboratory.intrinsic+json": {
              "type": "string"
            }
          },
          "metadata": {},
          "execution_count": 84
        }
      ]
    },
    {
      "cell_type": "code",
      "source": [
        "text_2='''Pakistan has launched missile strikes into Iran, killing nine people, after Iran carried out strikes in Pakistan late on Tuesday.\n",
        "\n",
        "Pakistan said its strikes had hit \"terrorist hideouts\" in Iran's south-eastern Sistan-Baluchestan province.\n",
        "\n",
        "Iran condemned the attack, which it said killed three women, two men and four children.\n",
        "\n",
        "The reciprocal air strikes come as tensions in the Middle East are high with several overlapping crises.\n",
        "\n",
        "Israel is fighting the Palestinian group Hamas in Gaza and exchanging fire with Iran-backed Hezbollah in Lebanon, Iran-backed groups in Iraq and Syria are targeting US forces, and the US and UK have struck the Iran-backed Houthis in Yemen, who have been attacking shipping.\n",
        "\n",
        "Pakistan's foreign ministry said its strikes around the Iranian city of Saravan had come in light of \"credible intelligence of impending large-scale terrorist activities\" and added that it \"fully respects\" Iran's \"sovereignty and territorial integrity\".\n",
        "\n",
        "In its own statement, Pakistan's army said the \"precision strikes\" were conducted with drones, rockets and long-range missiles and targeted the Balochistan Liberation Army and the Balochistan Liberation Front.\n",
        "\n",
        "Both groups are part of a decades-long struggle for greater autonomy in Balochistan, a remote region in south-western Pakistan.\n",
        "\n",
        "Pakistan had fiercely condemned Iran's strike on Tuesday, which struck an area of Pakistan's Balochistan province near the Iranian border and which Islamabad said killed two children.\n",
        "\n",
        "Iran insisted its strikes were aimed only at Jaish al-Adl, or \"army of justice\", an ethnic Baloch Sunni Muslim militant group (formerly called Jundullah) that has carried out attacks inside Iran, and not Pakistan's citizens.\n",
        "\n",
        "Iranian state media reported on Thursday that Tehran had summoned Pakistan's chargé d'affaires over the strikes. Pakistan had earlier recalled its ambassador and blocked the Iranian envoy from returning.\n",
        "\n",
        "China, Turkey and the Taliban government in Afghanistan have all called for restraint and dialogue'''\n",
        "\n",
        "\n",
        "\n",
        "\n",
        "list_text2=text_2.split()\n",
        "\n",
        "list_text2=[word for word in list_text2 if word not in string.punctuation]\n",
        "\n",
        "list_text2_=[word for word in list_text2 if word not in stop]\n",
        "\n",
        "text_2=' '.join(list_text2_)\n",
        "\n",
        "text_2=re.sub('[\\n]',' ', text_2)\n",
        "text_2=re.sub('\\d+','', text_2)\n",
        "text_2"
      ],
      "metadata": {
        "colab": {
          "base_uri": "https://localhost:8080/",
          "height": 175
        },
        "id": "TWVSFE9rYYGb",
        "outputId": "4e388c35-dacb-4a39-8990-e3c3b9f2b498"
      },
      "execution_count": 85,
      "outputs": [
        {
          "output_type": "execute_result",
          "data": {
            "text/plain": [
              "'Pakistan launched missile strikes Iran, killing nine people, Iran carried strikes Pakistan late Tuesday. Pakistan said strikes hit \"terrorist hideouts\" Iran\\'s south-eastern Sistan-Baluchestan province. Iran condemned attack, said killed three women, two men four children. The reciprocal air strikes come tensions Middle East high several overlapping crises. Israel fighting Palestinian group Hamas Gaza exchanging fire Iran-backed Hezbollah Lebanon, Iran-backed groups Iraq Syria targeting US forces, US UK struck Iran-backed Houthis Yemen, attacking shipping. Pakistan\\'s foreign ministry said strikes around Iranian city Saravan come light \"credible intelligence impending large-scale terrorist activities\" added \"fully respects\" Iran\\'s \"sovereignty territorial integrity\". In statement, Pakistan\\'s army said \"precision strikes\" conducted drones, rockets long-range missiles targeted Balochistan Liberation Army Balochistan Liberation Front. Both groups part decades-long struggle greater autonomy Balochistan, remote region south-western Pakistan. Pakistan fiercely condemned Iran\\'s strike Tuesday, struck area Pakistan\\'s Balochistan province near Iranian border Islamabad said killed two children. Iran insisted strikes aimed Jaish al-Adl, \"army justice\", ethnic Baloch Sunni Muslim militant group (formerly called Jundullah) carried attacks inside Iran, Pakistan\\'s citizens. Iranian state media reported Thursday Tehran summoned Pakistan\\'s chargé d\\'affaires strikes. Pakistan earlier recalled ambassador blocked Iranian envoy returning. China, Turkey Taliban government Afghanistan called restraint dialogue'"
            ],
            "application/vnd.google.colaboratory.intrinsic+json": {
              "type": "string"
            }
          },
          "metadata": {},
          "execution_count": 85
        }
      ]
    },
    {
      "cell_type": "code",
      "source": [
        "text_3='''In an expansion of hostilities rippling through the region, Pakistan said on Thursday that it had carried out strikes inside Iran, a day after Iranian forces attacked what they said were militant camps in Pakistan.\n",
        "\n",
        "The Pakistani Foreign Affairs Ministry said that the country’s forces had conducted “precision military strikes” against what it called terrorist hide-outs in southeastern Iran. The Iranian state-owned television network Press TV said that seven foreigners were killed in the strikes.\n",
        "\n",
        "A senior Pakistani security official, speaking on the condition of anonymity, said Pakistan had struck at least seven locations used by separatists from the Baluch ethnic group about 30 miles inside the border. The official said that air force fighter jets and drones were used in the Pakistani retaliatory strikes.A day before, Iran conducted an airstrike in Baluchistan Province in Pakistan. The Iranian government later said that the strike in Pakistan, as well as attacks it conducted this week in Iraq and Syria, showed that Iran would hit back forcefully at enemies anywhere.\n",
        "\n",
        "An emboldened Iran has been using its proxy forces against Israel and its allies since the war in Gaza began in October after the Hamas-led attacks on Israel. Those actions, and now the attacks by Iran itself on other countries in the region, have increased the risk that the upheaval washing over the Middle East could grow. Iran has been trying to project strength after recent attacks inside its borders had made it look vulnerable.Pakistan, which is grappling with political and economic troubles, indicated on Thursday that it did not want further escalation in its clash with Iran. In a statement, the Pakistani military called the two neighbors “brotherly countries” and said that “dialogue and cooperation is deemed prudent in resolving bilateral issues” between them.\n",
        "\n",
        "Syed Muhammad Ali, a security analyst based in Islamabad, said in an interview that Pakistan could not have left Iran’s strike unanswered.\n",
        "\n",
        "“A calculated and timely response was necessary to negate an Iranian misperception that an unprovoked, surprise military attack on Pakistan will not yield a strong but calibrated and swift response,” he said.He added that the two sides had strong incentives to let the tensions cool now that Pakistan had responded, “as both countries will not gain anything from any further military exchange or escalation.”\n",
        "\n",
        "In carefully crafted statements issued on Thursday, Pakistani officials refrained from directly accusing Iran. Pakistan’s narrative mirrored Iran’s rationale for its own strikes, saying that the Pakistani actions similarly targeted only those separatists who had taken refuge across the border.\n",
        "\n",
        "Pakistani military analysts were hopeful that this could pave the way for diplomatic dialogue between the two nations. Waqar Hasan, a retired army brigadier based in Islamabad, stressed the precision and care with which Pakistan had conducted its targeting inside Iran. “Pakistan and Iran need to move forward,” he said. “I think the situation can de-escalate now.”\n",
        "\n",
        "After Iran’s strike in Pakistan, Iranian officials said that the attack had been aimed at militants who threatened Iran, but the Pakistani authorities rejected that account, citing what they said were civilian casualties from the strike.\n",
        "\n",
        "Pakistan denounced the Iranian strike as a blatant violation of international law and warned on Wednesday that it “reserves the right to respond.”\n",
        "\n",
        "Pakistan has long maintained that Baluch separatists, who have waged a low-level insurgency in Baluchistan Province in southwestern Pakistan for decades, have hide-outs across the border in Iran. Iran has also accused Pakistan of not doing enough to contain militants who have targeted Iranian security.\n",
        "\n",
        "On Thursday, after the Pakistani strike inside Iran, channels on the messaging app Telegram run by Iran’s Revolutionary Guard Corps showed images of rubble from residential areas near the Pakistan border. Iran’s official Islamic Republic News Agency confirmed that multiple explosions had occurred in the border area.'''\n",
        "\n",
        "\n",
        "\n",
        "list_text3=text_3.split()\n",
        "\n",
        "list_text3=[word for word in list_text3 if word not in string.punctuation]\n",
        "\n",
        "list_text3_=[word for word in list_text3 if word not in stop]\n",
        "\n",
        "text_3=' '.join(list_text3_)\n",
        "\n",
        "text_3=re.sub('[\\n]',' ', text_3)\n",
        "text_3=re.sub('\\d+','', text_3)\n",
        "text_3"
      ],
      "metadata": {
        "colab": {
          "base_uri": "https://localhost:8080/",
          "height": 175
        },
        "id": "iwEbbPoWYvxo",
        "outputId": "be12a27e-b7a4-46b9-8871-c068409fac35"
      },
      "execution_count": 86,
      "outputs": [
        {
          "output_type": "execute_result",
          "data": {
            "text/plain": [
              "'In expansion hostilities rippling region, Pakistan said Thursday carried strikes inside Iran, day Iranian forces attacked said militant camps Pakistan. The Pakistani Foreign Affairs Ministry said country’s forces conducted “precision military strikes” called terrorist hide-outs southeastern Iran. The Iranian state-owned television network Press TV said seven foreigners killed strikes. A senior Pakistani security official, speaking condition anonymity, said Pakistan struck least seven locations used separatists Baluch ethnic group  miles inside border. The official said air force fighter jets drones used Pakistani retaliatory strikes.A day before, Iran conducted airstrike Baluchistan Province Pakistan. The Iranian government later said strike Pakistan, well attacks conducted week Iraq Syria, showed Iran would hit back forcefully enemies anywhere. An emboldened Iran using proxy forces Israel allies since war Gaza began October Hamas-led attacks Israel. Those actions, attacks Iran countries region, increased risk upheaval washing Middle East could grow. Iran trying project strength recent attacks inside borders made look vulnerable.Pakistan, grappling political economic troubles, indicated Thursday want escalation clash Iran. In statement, Pakistani military called two neighbors “brotherly countries” said “dialogue cooperation deemed prudent resolving bilateral issues” them. Syed Muhammad Ali, security analyst based Islamabad, said interview Pakistan could left Iran’s strike unanswered. “A calculated timely response necessary negate Iranian misperception unprovoked, surprise military attack Pakistan yield strong calibrated swift response,” said.He added two sides strong incentives let tensions cool Pakistan responded, “as countries gain anything military exchange escalation.” In carefully crafted statements issued Thursday, Pakistani officials refrained directly accusing Iran. Pakistan’s narrative mirrored Iran’s rationale strikes, saying Pakistani actions similarly targeted separatists taken refuge across border. Pakistani military analysts hopeful could pave way diplomatic dialogue two nations. Waqar Hasan, retired army brigadier based Islamabad, stressed precision care Pakistan conducted targeting inside Iran. “Pakistan Iran need move forward,” said. “I think situation de-escalate now.” After Iran’s strike Pakistan, Iranian officials said attack aimed militants threatened Iran, Pakistani authorities rejected account, citing said civilian casualties strike. Pakistan denounced Iranian strike blatant violation international law warned Wednesday “reserves right respond.” Pakistan long maintained Baluch separatists, waged low-level insurgency Baluchistan Province southwestern Pakistan decades, hide-outs across border Iran. Iran also accused Pakistan enough contain militants targeted Iranian security. On Thursday, Pakistani strike inside Iran, channels messaging app Telegram run Iran’s Revolutionary Guard Corps showed images rubble residential areas near Pakistan border. Iran’s official Islamic Republic News Agency confirmed multiple explosions occurred border area.'"
            ],
            "application/vnd.google.colaboratory.intrinsic+json": {
              "type": "string"
            }
          },
          "metadata": {},
          "execution_count": 86
        }
      ]
    },
    {
      "cell_type": "code",
      "source": [
        "main_list=[text_1,text_2,text_3]\n",
        "\n",
        "main_list"
      ],
      "metadata": {
        "colab": {
          "base_uri": "https://localhost:8080/"
        },
        "id": "ZHVta7dElQi7",
        "outputId": "adc548a1-b92f-4052-fce3-6d262dcb4b2c"
      },
      "execution_count": 87,
      "outputs": [
        {
          "output_type": "execute_result",
          "data": {
            "text/plain": [
              "['Pakistan’s air force launched retaliatory airstrikes early Thursday Iran alleged militant hideouts, killing least nine people raising tensions neighbors. Thursday’s attack followed one Iran inside Pakistan Tuesday. Both appeared target Baluch militant groups similar separatist goals either side Iran-Pakistan border. The countries accuse providing safe groups respective territories. The attacks also come Middle East remains unsettled Israel’s war Hamas Gaza Strip. Iran also staged airstrikes late Monday Iraq Syria Islamic State-claimed suicide bombing killed  people early January.The strikes imperiled diplomatic relations Islamabad Tehran, Iran nuclear-armed Pakistan long regarded suspicion militant attacks. Each nation also faces internal political pressures, strikes may part response that. Pakistan’s Foreign Ministry described attack Thursday “a series highly coordinated specifically targeted precision military strikes.” “This morning’s action taken light credible intelligence impending large scale terrorist activities,” said statement. “This action manifestation Pakistan’s unflinching resolve protect defend national security threats.” Pakistan’s military described using “killer drones, rockets, loitering munitions standoff weapons” attack. Standoff weapons missiles fired aircraft distance — likely meaning Pakistan’s fighter jets didn’t enter Iranian airspace.',\n",
              " 'Pakistan launched missile strikes Iran, killing nine people, Iran carried strikes Pakistan late Tuesday. Pakistan said strikes hit \"terrorist hideouts\" Iran\\'s south-eastern Sistan-Baluchestan province. Iran condemned attack, said killed three women, two men four children. The reciprocal air strikes come tensions Middle East high several overlapping crises. Israel fighting Palestinian group Hamas Gaza exchanging fire Iran-backed Hezbollah Lebanon, Iran-backed groups Iraq Syria targeting US forces, US UK struck Iran-backed Houthis Yemen, attacking shipping. Pakistan\\'s foreign ministry said strikes around Iranian city Saravan come light \"credible intelligence impending large-scale terrorist activities\" added \"fully respects\" Iran\\'s \"sovereignty territorial integrity\". In statement, Pakistan\\'s army said \"precision strikes\" conducted drones, rockets long-range missiles targeted Balochistan Liberation Army Balochistan Liberation Front. Both groups part decades-long struggle greater autonomy Balochistan, remote region south-western Pakistan. Pakistan fiercely condemned Iran\\'s strike Tuesday, struck area Pakistan\\'s Balochistan province near Iranian border Islamabad said killed two children. Iran insisted strikes aimed Jaish al-Adl, \"army justice\", ethnic Baloch Sunni Muslim militant group (formerly called Jundullah) carried attacks inside Iran, Pakistan\\'s citizens. Iranian state media reported Thursday Tehran summoned Pakistan\\'s chargé d\\'affaires strikes. Pakistan earlier recalled ambassador blocked Iranian envoy returning. China, Turkey Taliban government Afghanistan called restraint dialogue',\n",
              " 'In expansion hostilities rippling region, Pakistan said Thursday carried strikes inside Iran, day Iranian forces attacked said militant camps Pakistan. The Pakistani Foreign Affairs Ministry said country’s forces conducted “precision military strikes” called terrorist hide-outs southeastern Iran. The Iranian state-owned television network Press TV said seven foreigners killed strikes. A senior Pakistani security official, speaking condition anonymity, said Pakistan struck least seven locations used separatists Baluch ethnic group  miles inside border. The official said air force fighter jets drones used Pakistani retaliatory strikes.A day before, Iran conducted airstrike Baluchistan Province Pakistan. The Iranian government later said strike Pakistan, well attacks conducted week Iraq Syria, showed Iran would hit back forcefully enemies anywhere. An emboldened Iran using proxy forces Israel allies since war Gaza began October Hamas-led attacks Israel. Those actions, attacks Iran countries region, increased risk upheaval washing Middle East could grow. Iran trying project strength recent attacks inside borders made look vulnerable.Pakistan, grappling political economic troubles, indicated Thursday want escalation clash Iran. In statement, Pakistani military called two neighbors “brotherly countries” said “dialogue cooperation deemed prudent resolving bilateral issues” them. Syed Muhammad Ali, security analyst based Islamabad, said interview Pakistan could left Iran’s strike unanswered. “A calculated timely response necessary negate Iranian misperception unprovoked, surprise military attack Pakistan yield strong calibrated swift response,” said.He added two sides strong incentives let tensions cool Pakistan responded, “as countries gain anything military exchange escalation.” In carefully crafted statements issued Thursday, Pakistani officials refrained directly accusing Iran. Pakistan’s narrative mirrored Iran’s rationale strikes, saying Pakistani actions similarly targeted separatists taken refuge across border. Pakistani military analysts hopeful could pave way diplomatic dialogue two nations. Waqar Hasan, retired army brigadier based Islamabad, stressed precision care Pakistan conducted targeting inside Iran. “Pakistan Iran need move forward,” said. “I think situation de-escalate now.” After Iran’s strike Pakistan, Iranian officials said attack aimed militants threatened Iran, Pakistani authorities rejected account, citing said civilian casualties strike. Pakistan denounced Iranian strike blatant violation international law warned Wednesday “reserves right respond.” Pakistan long maintained Baluch separatists, waged low-level insurgency Baluchistan Province southwestern Pakistan decades, hide-outs across border Iran. Iran also accused Pakistan enough contain militants targeted Iranian security. On Thursday, Pakistani strike inside Iran, channels messaging app Telegram run Iran’s Revolutionary Guard Corps showed images rubble residential areas near Pakistan border. Iran’s official Islamic Republic News Agency confirmed multiple explosions occurred border area.']"
            ]
          },
          "metadata": {},
          "execution_count": 87
        }
      ]
    },
    {
      "cell_type": "code",
      "source": [
        "\n",
        "vectorizer=CountVectorizer(ngram_range = (1, 1))\n",
        "\n",
        "vec=vectorizer.fit_transform(main_list)\n",
        "\n",
        "\n",
        "vocab=vectorizer.vocabulary_\n",
        "\n",
        "\n",
        "\n",
        "vocab.items()"
      ],
      "metadata": {
        "colab": {
          "base_uri": "https://localhost:8080/"
        },
        "id": "Qmn1bsBklyLG",
        "outputId": "fa12076b-9543-43e7-fd40-5e696c4647e9"
      },
      "execution_count": 88,
      "outputs": [
        {
          "output_type": "execute_result",
          "data": {
            "text/plain": [
              "dict_items([('pakistan', 269), ('air', 16), ('force', 139), ('launched', 205), ('retaliatory', 311), ('airstrikes', 20), ('early', 115), ('thursday', 390), ('iran', 186), ('alleged', 23), ('militant', 231), ('hideouts', 164), ('killing', 201), ('least', 207), ('nine', 257), ('people', 274), ('raising', 285), ('tensions', 377), ('neighbors', 254), ('attack', 41), ('followed', 138), ('one', 265), ('inside', 178), ('tuesday', 394), ('both', 63), ('appeared', 34), ('target', 371), ('baluch', 51), ('groups', 156), ('similar', 337), ('separatist', 328), ('goals', 151), ('either', 119), ('side', 335), ('border', 61), ('the', 382), ('countries', 95), ('accuse', 1), ('providing', 281), ('safe', 321), ('respective', 305), ('territories', 379), ('attacks', 44), ('also', 25), ('come', 84), ('middle', 229), ('east', 116), ('remains', 297), ('unsettled', 402), ('israel', 191), ('war', 412), ('hamas', 159), ('gaza', 150), ('strip', 357), ('staged', 348), ('late', 203), ('monday', 239), ('iraq', 188), ('syria', 368), ('islamic', 190), ('state', 350), ('claimed', 82), ('suicide', 361), ('bombing', 60), ('killed', 199), ('january', 195), ('strikes', 356), ('imperiled', 173), ('diplomatic', 109), ('relations', 296), ('islamabad', 189), ('tehran', 374), ('nuclear', 259), ('armed', 37), ('long', 218), ('regarded', 293), ('suspicion', 365), ('each', 113), ('nation', 247), ('faces', 132), ('internal', 183), ('political', 275), ('pressures', 278), ('may', 224), ('part', 272), ('response', 309), ('that', 381), ('foreign', 142), ('ministry', 234), ('described', 106), ('series', 330), ('highly', 166), ('coordinated', 92), ('specifically', 347), ('targeted', 372), ('precision', 276), ('military', 233), ('this', 385), ('morning', 240), ('action', 5), ('taken', 369), ('light', 214), ('credible', 98), ('intelligence', 182), ('impending', 172), ('large', 202), ('scale', 325), ('terrorist', 380), ('activities', 7), ('said', 322), ('statement', 351), ('manifestation', 223), ('unflinching', 400), ('resolve', 303), ('protect', 280), ('defend', 104), ('national', 248), ('security', 326), ('threats', 388), ('using', 406), ('killer', 200), ('drones', 112), ('rockets', 318), ('loitering', 217), ('munitions', 244), ('standoff', 349), ('weapons', 416), ('missiles', 238), ('fired', 137), ('aircraft', 17), ('distance', 111), ('likely', 215), ('meaning', 225), ('fighter', 134), ('jets', 196), ('didn', 108), ('enter', 123), ('iranian', 187), ('airspace', 18), ('missile', 237), ('carried', 72), ('hit', 167), ('south', 342), ('eastern', 117), ('sistan', 340), ('baluchestan', 52), ('province', 282), ('condemned', 85), ('three', 389), ('women', 421), ('two', 397), ('men', 227), ('four', 146), ('children', 76), ('reciprocal', 290), ('high', 165), ('several', 332), ('overlapping', 267), ('crises', 99), ('fighting', 135), ('palestinian', 271), ('group', 155), ('exchanging', 129), ('fire', 136), ('backed', 48), ('hezbollah', 162), ('lebanon', 208), ('targeting', 373), ('us', 404), ('forces', 141), ('uk', 398), ('struck', 359), ('houthis', 170), ('yemen', 423), ('attacking', 43), ('shipping', 333), ('around', 39), ('city', 80), ('saravan', 323), ('added', 8), ('fully', 148), ('respects', 306), ('sovereignty', 345), ('territorial', 378), ('integrity', 181), ('in', 174), ('army', 38), ('conducted', 87), ('range', 286), ('balochistan', 50), ('liberation', 213), ('front', 147), ('decades', 102), ('struggle', 360), ('greater', 154), ('autonomy', 46), ('remote', 298), ('region', 294), ('western', 420), ('fiercely', 133), ('strike', 355), ('area', 35), ('near', 250), ('insisted', 179), ('aimed', 15), ('jaish', 194), ('al', 21), ('adl', 9), ('justice', 198), ('ethnic', 127), ('baloch', 49), ('sunni', 363), ('muslim', 245), ('formerly', 144), ('called', 68), ('jundullah', 197), ('citizens', 79), ('media', 226), ('reported', 299), ('summoned', 362), ('chargé', 75), ('affaires', 10), ('earlier', 114), ('recalled', 288), ('ambassador', 26), ('blocked', 59), ('envoy', 124), ('returning', 313), ('china', 77), ('turkey', 395), ('taliban', 370), ('government', 152), ('afghanistan', 12), ('restraint', 310), ('dialogue', 107), ('expansion', 130), ('hostilities', 169), ('rippling', 316), ('day', 100), ('attacked', 42), ('camps', 69), ('pakistani', 270), ('affairs', 11), ('country', 96), ('hide', 163), ('outs', 266), ('southeastern', 343), ('owned', 268), ('television', 376), ('network', 255), ('press', 277), ('tv', 396), ('seven', 331), ('foreigners', 143), ('senior', 327), ('official', 262), ('speaking', 346), ('condition', 86), ('anonymity', 30), ('locations', 216), ('used', 405), ('separatists', 329), ('miles', 230), ('before', 55), ('airstrike', 19), ('baluchistan', 53), ('later', 204), ('well', 419), ('week', 418), ('showed', 334), ('would', 422), ('back', 47), ('forcefully', 140), ('enemies', 121), ('anywhere', 32), ('an', 27), ('emboldened', 120), ('proxy', 283), ('allies', 24), ('since', 339), ('began', 56), ('october', 261), ('led', 209), ('those', 386), ('actions', 6), ('increased', 176), ('risk', 317), ('upheaval', 403), ('washing', 414), ('could', 94), ('grow', 157), ('trying', 393), ('project', 279), ('strength', 353), ('recent', 289), ('borders', 62), ('made', 221), ('look', 219), ('vulnerable', 408), ('grappling', 153), ('economic', 118), ('troubles', 392), ('indicated', 177), ('want', 410), ('escalation', 126), ('clash', 83), ('brotherly', 65), ('cooperation', 91), ('deemed', 103), ('prudent', 284), ('resolving', 304), ('bilateral', 57), ('issues', 193), ('them', 383), ('syed', 367), ('muhammad', 242), ('ali', 22), ('analyst', 28), ('based', 54), ('interview', 185), ('left', 210), ('unanswered', 399), ('calculated', 66), ('timely', 391), ('necessary', 251), ('negate', 253), ('misperception', 236), ('unprovoked', 401), ('surprise', 364), ('yield', 424), ('strong', 358), ('calibrated', 67), ('swift', 366), ('he', 161), ('sides', 336), ('incentives', 175), ('let', 211), ('cool', 90), ('responded', 308), ('as', 40), ('gain', 149), ('anything', 31), ('exchange', 128), ('carefully', 71), ('crafted', 97), ('statements', 352), ('issued', 192), ('officials', 263), ('refrained', 291), ('directly', 110), ('accusing', 3), ('narrative', 246), ('mirrored', 235), ('rationale', 287), ('saying', 324), ('similarly', 338), ('refuge', 292), ('across', 4), ('analysts', 29), ('hopeful', 168), ('pave', 273), ('way', 415), ('nations', 249), ('waqar', 411), ('hasan', 160), ('retired', 312), ('brigadier', 64), ('stressed', 354), ('care', 70), ('need', 252), ('move', 241), ('forward', 145), ('think', 384), ('situation', 341), ('de', 101), ('escalate', 125), ('now', 258), ('after', 13), ('militants', 232), ('threatened', 387), ('authorities', 45), ('rejected', 295), ('account', 0), ('citing', 78), ('civilian', 81), ('casualties', 73), ('denounced', 105), ('blatant', 58), ('violation', 407), ('international', 184), ('law', 206), ('warned', 413), ('wednesday', 417), ('reserves', 301), ('right', 315), ('respond', 307), ('maintained', 222), ('waged', 409), ('low', 220), ('level', 212), ('insurgency', 180), ('southwestern', 344), ('accused', 2), ('enough', 122), ('contain', 89), ('on', 264), ('channels', 74), ('messaging', 228), ('app', 33), ('telegram', 375), ('run', 320), ('revolutionary', 314), ('guard', 158), ('corps', 93), ('images', 171), ('rubble', 319), ('residential', 302), ('areas', 36), ('republic', 300), ('news', 256), ('agency', 14), ('confirmed', 88), ('multiple', 243), ('explosions', 131), ('occurred', 260)])"
            ]
          },
          "metadata": {},
          "execution_count": 88
        }
      ]
    },
    {
      "cell_type": "code",
      "source": [
        "vec.toarray()\n",
        "\n",
        "df=pd.DataFrame(vec.toarray())\n",
        "\n",
        "column=[]\n",
        "for i in df.columns:\n",
        "  for j in vocab.items():\n",
        "    if i==j[1]:\n",
        "      column.append(j[0])\n",
        "\n",
        "df.columns=column\n",
        "\n",
        "df=df.sum().reset_index()\n",
        "\n",
        "df.columns=['words','Number of words in the corpus']\n",
        "df[df['Number of words in the corpus'] >10]\n"
      ],
      "metadata": {
        "colab": {
          "base_uri": "https://localhost:8080/",
          "height": 206
        },
        "id": "EBqfy36RnILr",
        "outputId": "d16099cb-64f0-45f0-d498-1817d3d12ab8"
      },
      "execution_count": 90,
      "outputs": [
        {
          "output_type": "execute_result",
          "data": {
            "text/plain": [
              "        words  Number of words in the corpus\n",
              "186      iran                             36\n",
              "187   iranian                             12\n",
              "269  pakistan                             37\n",
              "322      said                             19\n",
              "356   strikes                             16"
            ],
            "text/html": [
              "\n",
              "  <div id=\"df-2a9746c5-b6a5-4c00-8c5a-fb43ccb5e618\" class=\"colab-df-container\">\n",
              "    <div>\n",
              "<style scoped>\n",
              "    .dataframe tbody tr th:only-of-type {\n",
              "        vertical-align: middle;\n",
              "    }\n",
              "\n",
              "    .dataframe tbody tr th {\n",
              "        vertical-align: top;\n",
              "    }\n",
              "\n",
              "    .dataframe thead th {\n",
              "        text-align: right;\n",
              "    }\n",
              "</style>\n",
              "<table border=\"1\" class=\"dataframe\">\n",
              "  <thead>\n",
              "    <tr style=\"text-align: right;\">\n",
              "      <th></th>\n",
              "      <th>words</th>\n",
              "      <th>Number of words in the corpus</th>\n",
              "    </tr>\n",
              "  </thead>\n",
              "  <tbody>\n",
              "    <tr>\n",
              "      <th>186</th>\n",
              "      <td>iran</td>\n",
              "      <td>36</td>\n",
              "    </tr>\n",
              "    <tr>\n",
              "      <th>187</th>\n",
              "      <td>iranian</td>\n",
              "      <td>12</td>\n",
              "    </tr>\n",
              "    <tr>\n",
              "      <th>269</th>\n",
              "      <td>pakistan</td>\n",
              "      <td>37</td>\n",
              "    </tr>\n",
              "    <tr>\n",
              "      <th>322</th>\n",
              "      <td>said</td>\n",
              "      <td>19</td>\n",
              "    </tr>\n",
              "    <tr>\n",
              "      <th>356</th>\n",
              "      <td>strikes</td>\n",
              "      <td>16</td>\n",
              "    </tr>\n",
              "  </tbody>\n",
              "</table>\n",
              "</div>\n",
              "    <div class=\"colab-df-buttons\">\n",
              "\n",
              "  <div class=\"colab-df-container\">\n",
              "    <button class=\"colab-df-convert\" onclick=\"convertToInteractive('df-2a9746c5-b6a5-4c00-8c5a-fb43ccb5e618')\"\n",
              "            title=\"Convert this dataframe to an interactive table.\"\n",
              "            style=\"display:none;\">\n",
              "\n",
              "  <svg xmlns=\"http://www.w3.org/2000/svg\" height=\"24px\" viewBox=\"0 -960 960 960\">\n",
              "    <path d=\"M120-120v-720h720v720H120Zm60-500h600v-160H180v160Zm220 220h160v-160H400v160Zm0 220h160v-160H400v160ZM180-400h160v-160H180v160Zm440 0h160v-160H620v160ZM180-180h160v-160H180v160Zm440 0h160v-160H620v160Z\"/>\n",
              "  </svg>\n",
              "    </button>\n",
              "\n",
              "  <style>\n",
              "    .colab-df-container {\n",
              "      display:flex;\n",
              "      gap: 12px;\n",
              "    }\n",
              "\n",
              "    .colab-df-convert {\n",
              "      background-color: #E8F0FE;\n",
              "      border: none;\n",
              "      border-radius: 50%;\n",
              "      cursor: pointer;\n",
              "      display: none;\n",
              "      fill: #1967D2;\n",
              "      height: 32px;\n",
              "      padding: 0 0 0 0;\n",
              "      width: 32px;\n",
              "    }\n",
              "\n",
              "    .colab-df-convert:hover {\n",
              "      background-color: #E2EBFA;\n",
              "      box-shadow: 0px 1px 2px rgba(60, 64, 67, 0.3), 0px 1px 3px 1px rgba(60, 64, 67, 0.15);\n",
              "      fill: #174EA6;\n",
              "    }\n",
              "\n",
              "    .colab-df-buttons div {\n",
              "      margin-bottom: 4px;\n",
              "    }\n",
              "\n",
              "    [theme=dark] .colab-df-convert {\n",
              "      background-color: #3B4455;\n",
              "      fill: #D2E3FC;\n",
              "    }\n",
              "\n",
              "    [theme=dark] .colab-df-convert:hover {\n",
              "      background-color: #434B5C;\n",
              "      box-shadow: 0px 1px 3px 1px rgba(0, 0, 0, 0.15);\n",
              "      filter: drop-shadow(0px 1px 2px rgba(0, 0, 0, 0.3));\n",
              "      fill: #FFFFFF;\n",
              "    }\n",
              "  </style>\n",
              "\n",
              "    <script>\n",
              "      const buttonEl =\n",
              "        document.querySelector('#df-2a9746c5-b6a5-4c00-8c5a-fb43ccb5e618 button.colab-df-convert');\n",
              "      buttonEl.style.display =\n",
              "        google.colab.kernel.accessAllowed ? 'block' : 'none';\n",
              "\n",
              "      async function convertToInteractive(key) {\n",
              "        const element = document.querySelector('#df-2a9746c5-b6a5-4c00-8c5a-fb43ccb5e618');\n",
              "        const dataTable =\n",
              "          await google.colab.kernel.invokeFunction('convertToInteractive',\n",
              "                                                    [key], {});\n",
              "        if (!dataTable) return;\n",
              "\n",
              "        const docLinkHtml = 'Like what you see? Visit the ' +\n",
              "          '<a target=\"_blank\" href=https://colab.research.google.com/notebooks/data_table.ipynb>data table notebook</a>'\n",
              "          + ' to learn more about interactive tables.';\n",
              "        element.innerHTML = '';\n",
              "        dataTable['output_type'] = 'display_data';\n",
              "        await google.colab.output.renderOutput(dataTable, element);\n",
              "        const docLink = document.createElement('div');\n",
              "        docLink.innerHTML = docLinkHtml;\n",
              "        element.appendChild(docLink);\n",
              "      }\n",
              "    </script>\n",
              "  </div>\n",
              "\n",
              "\n",
              "<div id=\"df-f5419bba-da50-43d8-8eec-617186c25ddc\">\n",
              "  <button class=\"colab-df-quickchart\" onclick=\"quickchart('df-f5419bba-da50-43d8-8eec-617186c25ddc')\"\n",
              "            title=\"Suggest charts\"\n",
              "            style=\"display:none;\">\n",
              "\n",
              "<svg xmlns=\"http://www.w3.org/2000/svg\" height=\"24px\"viewBox=\"0 0 24 24\"\n",
              "     width=\"24px\">\n",
              "    <g>\n",
              "        <path d=\"M19 3H5c-1.1 0-2 .9-2 2v14c0 1.1.9 2 2 2h14c1.1 0 2-.9 2-2V5c0-1.1-.9-2-2-2zM9 17H7v-7h2v7zm4 0h-2V7h2v10zm4 0h-2v-4h2v4z\"/>\n",
              "    </g>\n",
              "</svg>\n",
              "  </button>\n",
              "\n",
              "<style>\n",
              "  .colab-df-quickchart {\n",
              "      --bg-color: #E8F0FE;\n",
              "      --fill-color: #1967D2;\n",
              "      --hover-bg-color: #E2EBFA;\n",
              "      --hover-fill-color: #174EA6;\n",
              "      --disabled-fill-color: #AAA;\n",
              "      --disabled-bg-color: #DDD;\n",
              "  }\n",
              "\n",
              "  [theme=dark] .colab-df-quickchart {\n",
              "      --bg-color: #3B4455;\n",
              "      --fill-color: #D2E3FC;\n",
              "      --hover-bg-color: #434B5C;\n",
              "      --hover-fill-color: #FFFFFF;\n",
              "      --disabled-bg-color: #3B4455;\n",
              "      --disabled-fill-color: #666;\n",
              "  }\n",
              "\n",
              "  .colab-df-quickchart {\n",
              "    background-color: var(--bg-color);\n",
              "    border: none;\n",
              "    border-radius: 50%;\n",
              "    cursor: pointer;\n",
              "    display: none;\n",
              "    fill: var(--fill-color);\n",
              "    height: 32px;\n",
              "    padding: 0;\n",
              "    width: 32px;\n",
              "  }\n",
              "\n",
              "  .colab-df-quickchart:hover {\n",
              "    background-color: var(--hover-bg-color);\n",
              "    box-shadow: 0 1px 2px rgba(60, 64, 67, 0.3), 0 1px 3px 1px rgba(60, 64, 67, 0.15);\n",
              "    fill: var(--button-hover-fill-color);\n",
              "  }\n",
              "\n",
              "  .colab-df-quickchart-complete:disabled,\n",
              "  .colab-df-quickchart-complete:disabled:hover {\n",
              "    background-color: var(--disabled-bg-color);\n",
              "    fill: var(--disabled-fill-color);\n",
              "    box-shadow: none;\n",
              "  }\n",
              "\n",
              "  .colab-df-spinner {\n",
              "    border: 2px solid var(--fill-color);\n",
              "    border-color: transparent;\n",
              "    border-bottom-color: var(--fill-color);\n",
              "    animation:\n",
              "      spin 1s steps(1) infinite;\n",
              "  }\n",
              "\n",
              "  @keyframes spin {\n",
              "    0% {\n",
              "      border-color: transparent;\n",
              "      border-bottom-color: var(--fill-color);\n",
              "      border-left-color: var(--fill-color);\n",
              "    }\n",
              "    20% {\n",
              "      border-color: transparent;\n",
              "      border-left-color: var(--fill-color);\n",
              "      border-top-color: var(--fill-color);\n",
              "    }\n",
              "    30% {\n",
              "      border-color: transparent;\n",
              "      border-left-color: var(--fill-color);\n",
              "      border-top-color: var(--fill-color);\n",
              "      border-right-color: var(--fill-color);\n",
              "    }\n",
              "    40% {\n",
              "      border-color: transparent;\n",
              "      border-right-color: var(--fill-color);\n",
              "      border-top-color: var(--fill-color);\n",
              "    }\n",
              "    60% {\n",
              "      border-color: transparent;\n",
              "      border-right-color: var(--fill-color);\n",
              "    }\n",
              "    80% {\n",
              "      border-color: transparent;\n",
              "      border-right-color: var(--fill-color);\n",
              "      border-bottom-color: var(--fill-color);\n",
              "    }\n",
              "    90% {\n",
              "      border-color: transparent;\n",
              "      border-bottom-color: var(--fill-color);\n",
              "    }\n",
              "  }\n",
              "</style>\n",
              "\n",
              "  <script>\n",
              "    async function quickchart(key) {\n",
              "      const quickchartButtonEl =\n",
              "        document.querySelector('#' + key + ' button');\n",
              "      quickchartButtonEl.disabled = true;  // To prevent multiple clicks.\n",
              "      quickchartButtonEl.classList.add('colab-df-spinner');\n",
              "      try {\n",
              "        const charts = await google.colab.kernel.invokeFunction(\n",
              "            'suggestCharts', [key], {});\n",
              "      } catch (error) {\n",
              "        console.error('Error during call to suggestCharts:', error);\n",
              "      }\n",
              "      quickchartButtonEl.classList.remove('colab-df-spinner');\n",
              "      quickchartButtonEl.classList.add('colab-df-quickchart-complete');\n",
              "    }\n",
              "    (() => {\n",
              "      let quickchartButtonEl =\n",
              "        document.querySelector('#df-f5419bba-da50-43d8-8eec-617186c25ddc button');\n",
              "      quickchartButtonEl.style.display =\n",
              "        google.colab.kernel.accessAllowed ? 'block' : 'none';\n",
              "    })();\n",
              "  </script>\n",
              "</div>\n",
              "    </div>\n",
              "  </div>\n"
            ]
          },
          "metadata": {},
          "execution_count": 90
        }
      ]
    }
  ]
}